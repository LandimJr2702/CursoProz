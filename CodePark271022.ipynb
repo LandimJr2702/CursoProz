{
  "nbformat": 4,
  "nbformat_minor": 0,
  "metadata": {
    "colab": {
      "provenance": [],
      "authorship_tag": "ABX9TyOE+/vfk1juIb/337y8d173",
      "include_colab_link": true
    },
    "kernelspec": {
      "name": "python3",
      "display_name": "Python 3"
    },
    "language_info": {
      "name": "python"
    }
  },
  "cells": [
    {
      "cell_type": "markdown",
      "metadata": {
        "id": "view-in-github",
        "colab_type": "text"
      },
      "source": [
        "<a href=\"https://colab.research.google.com/github/LandimJr2702/CursoProz/blob/main/CodePark271022.ipynb\" target=\"_parent\"><img src=\"https://colab.research.google.com/assets/colab-badge.svg\" alt=\"Open In Colab\"/></a>"
      ]
    },
    {
      "cell_type": "code",
      "execution_count": null,
      "metadata": {
        "id": "dcQ6P7aNMXt-"
      },
      "outputs": [],
      "source": []
    },
    {
      "cell_type": "markdown",
      "source": [
        "Desenvolva um programa que utiliza o nome de um aluno, duas notas e a quantidade de faltas que ele teve. Conclua se o aluno está aprovado ou reprovado de acordo com as especificações:\n",
        "\n",
        "- Se a média do aluno for menor que sete, o sistema deve informar o nome do aluno e que ele está reprovado;\n",
        "- Se o aluno possuir mais de três faltas, o sistema deve informar o nome do aluno e que ele está reprovado; \n",
        "- Se a média do aluno for maior ou igual a sete, o sistema deve informar o nome do aluno e que ele está aprovado. \n",
        "\n",
        "No sistema, todos os valores devem estar armazenados em variáveis."
      ],
      "metadata": {
        "id": "WOildI80M1t-"
      }
    },
    {
      "cell_type": "code",
      "source": [
        "nomeAluno = \"Dedicado\"\n",
        "nota01 = 7.8\n",
        "nota02 = 8.2\n",
        "faltas = 2\n",
        "media = (nota01 + nota01) / 2\n",
        "if(media<7): \n",
        "  print(\"O Aluno: \" + nomeAluno,\", Foi Reprovado\")\n",
        "elif(faltas>2):\n",
        "  print(\"O Aluno: \" + nomeAluno,\", Foi Reprovado\")\n",
        "else:\n",
        "  print(\"O Aluno: \" + nomeAluno,\", Foi Aprovado\")\n",
        "  \n",
        "\n",
        " \n",
        "\n"
      ],
      "metadata": {
        "colab": {
          "base_uri": "https://localhost:8080/"
        },
        "id": "zhGHyCmOM6tM",
        "outputId": "e5406dad-ce8a-43b9-f04d-447a0b9b5872"
      },
      "execution_count": 9,
      "outputs": [
        {
          "output_type": "stream",
          "name": "stdout",
          "text": [
            "O Aluno: Dedicado , Foi Aprovado\n"
          ]
        }
      ]
    }
  ]
}