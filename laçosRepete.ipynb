{
  "nbformat": 4,
  "nbformat_minor": 0,
  "metadata": {
    "colab": {
      "provenance": [],
      "authorship_tag": "ABX9TyNZ3VAOeqJ3hYQ5kyeONhkG",
      "include_colab_link": true
    },
    "kernelspec": {
      "name": "python3",
      "display_name": "Python 3"
    },
    "language_info": {
      "name": "python"
    }
  },
  "cells": [
    {
      "cell_type": "markdown",
      "metadata": {
        "id": "view-in-github",
        "colab_type": "text"
      },
      "source": [
        "<a href=\"https://colab.research.google.com/github/LandimJr2702/CursoProz/blob/main/la%C3%A7osRepete.ipynb\" target=\"_parent\"><img src=\"https://colab.research.google.com/assets/colab-badge.svg\" alt=\"Open In Colab\"/></a>"
      ]
    },
    {
      "cell_type": "markdown",
      "source": [
        "Desenvolva um código que utilize as seguintes características de um veículo:\n",
        "- Quantidade de rodas;\n",
        "- Peso bruto em quilogramas;\n",
        "- Quantidade de pessoas no veículo.\n",
        "\n",
        "Com essas informações, o programa mostrará qual é a melhor categoria de habilitação para o veículo informado a partir das condições:\n",
        "A: Veículos com duas ou três rodas;\n",
        "B: Veículos com quatro rodas, que acomodam até oito pessoas e seu peso é de até 3500 kg;\n",
        "C: Veículos com quatro rodas ou mais e com peso entre 3500 e 6000 kg;\n",
        "D: Veículos com quatro rodas ou mais e que acomodam mais de oito pessoas; E: Veículos com quatro rodas ou mais e com mais de 6000 kg."
      ],
      "metadata": {
        "id": "fGebcCbKnosV"
      }
    },
    {
      "cell_type": "code",
      "execution_count": 13,
      "metadata": {
        "colab": {
          "base_uri": "https://localhost:8080/"
        },
        "id": "Ly9CMrQjnmi-",
        "outputId": "70f2a9f4-9dd0-4a6a-a16b-a62eae729e17"
      },
      "outputs": [
        {
          "output_type": "stream",
          "name": "stdout",
          "text": [
            "A melhor categoria para sua habilitação é D\n"
          ]
        }
      ],
      "source": [
        "Q_rodas = 8\n",
        "P_Bruto = 3501\n",
        "Q_Pessoas = 10\n",
        "\n",
        "if(Q_rodas<4): print(\"A melhor categoria para sua habilitação é A\")\n",
        "\n",
        "elif((Q_rodas==4)and(Q_Pessoas<=8)and(P_Bruto<=3500)): print(\"A melhor categoria para sua habilitação é B\")\n",
        "\n",
        "elif((Q_rodas>=4)and(P_Bruto>3500)and(P_Bruto<=6000)and(Q_Pessoas<8)): print(\"A melhor categoria para sua habilitação é C\")\n",
        "\n",
        "elif((Q_rodas>4)and(Q_Pessoas>8)): print(\"A melhor categoria para sua habilitação é D\")\n",
        "\n",
        "elif((Q_rodas>4)and(P_Bruto>6000)): print(\"A melhor categoria para sua habilitação é E\")     \n",
        "\n"
      ]
    },
    {
      "cell_type": "markdown",
      "source": [
        "Precisamos imprimir um número para cada andar de um hotel de 20 andares. Porém, o dono do hotel é supersticioso e optou por não ter um 13ro andar. Escreva um código que imprima todos os números exceto o número 13. Escreva mais dois códigos que resolvam o mesmo problema, mas dessa vez usando os outros dois tipos de laços de repetição aprendidos. Como desafio, imprima eles em ordem decrescente (20, 19, 18...) "
      ],
      "metadata": {
        "id": "1WSoJc4rz-3i"
      }
    },
    {
      "cell_type": "code",
      "source": [
        "N_andares=20\n",
        "for i in range(0,N_andares):\n",
        "   if(i+1!=13): print(i+1)\n",
        "     \n"
      ],
      "metadata": {
        "colab": {
          "base_uri": "https://localhost:8080/"
        },
        "id": "A4s4tOOk0DnB",
        "outputId": "3a644c0a-72f0-4f33-b1d9-058b32dc0879"
      },
      "execution_count": 16,
      "outputs": [
        {
          "output_type": "stream",
          "name": "stdout",
          "text": [
            "1\n",
            "2\n",
            "3\n",
            "4\n",
            "5\n",
            "6\n",
            "7\n",
            "8\n",
            "9\n",
            "10\n",
            "11\n",
            "12\n",
            "14\n",
            "15\n",
            "16\n",
            "17\n",
            "18\n",
            "19\n",
            "20\n"
          ]
        }
      ]
    },
    {
      "cell_type": "markdown",
      "source": [
        "Faça um código que execute a contagem regressiva de uma bomba, informando o número de segundos para explodir. Ele deverá mostrar a mensagem “iniciando contagem regressiva”, os segundos passados e, no final, a mensagem “BUM!”.\n",
        "\n",
        "Não é necessário, mas, caso deseje tornar o sistema mais realista para que o tempo realmente passe em segundos, você pode usar a função time.sleep() que existe na Python (acesse o link em anexo). No entanto, é preciso adicionar uma biblioteca antes de executá-la."
      ],
      "metadata": {
        "id": "IhQo3M2t3hv-"
      }
    },
    {
      "cell_type": "code",
      "source": [
        "import time\n",
        "\n",
        "c = 10\n",
        "print('Iniciando a contagem regressiva!')\n",
        "while c >= 0:\n",
        "    print(f' Contando... \\n {c}')\n",
        "    c -= 1\n",
        "    if c == 0:\n",
        "        break\n",
        "    time.sleep(1)\n",
        "print('BOOM')"
      ],
      "metadata": {
        "colab": {
          "base_uri": "https://localhost:8080/"
        },
        "id": "QZEAHWSr3oJX",
        "outputId": "9a47cf5f-0a16-449e-9dd0-5b7cfe2a6a34"
      },
      "execution_count": 17,
      "outputs": [
        {
          "output_type": "stream",
          "name": "stdout",
          "text": [
            "Iniciando a contagem regressiva!\n",
            " Contando... \n",
            " 10\n",
            " Contando... \n",
            " 9\n",
            " Contando... \n",
            " 8\n",
            " Contando... \n",
            " 7\n",
            " Contando... \n",
            " 6\n",
            " Contando... \n",
            " 5\n",
            " Contando... \n",
            " 4\n",
            " Contando... \n",
            " 3\n",
            " Contando... \n",
            " 2\n",
            " Contando... \n",
            " 1\n",
            "BOOM\n"
          ]
        }
      ]
    }
  ]
}