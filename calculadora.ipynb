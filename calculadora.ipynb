{
  "nbformat": 4,
  "nbformat_minor": 0,
  "metadata": {
    "colab": {
      "provenance": [],
      "authorship_tag": "ABX9TyP4lq76Mlm7B9KiY7PTanGR",
      "include_colab_link": true
    },
    "kernelspec": {
      "name": "python3",
      "display_name": "Python 3"
    },
    "language_info": {
      "name": "python"
    }
  },
  "cells": [
    {
      "cell_type": "markdown",
      "metadata": {
        "id": "view-in-github",
        "colab_type": "text"
      },
      "source": [
        "<a href=\"https://colab.research.google.com/github/LandimJr2702/CursoProz/blob/main/calculadora.ipynb\" target=\"_parent\"><img src=\"https://colab.research.google.com/assets/colab-badge.svg\" alt=\"Open In Colab\"/></a>"
      ]
    },
    {
      "cell_type": "markdown",
      "source": [
        "Faça uma função calculadora de dois números com três parâmetros: os dois primeiros serão os números da operação e o terceiro será a entrada que definirá a operação a ser executada. Considera a seguinte definição:\n",
        "1. Soma\n",
        "2. Subtração\n",
        "3. Multiplicação\n",
        "4. Divisão\n",
        "\n",
        "Caso seja inserido um número de operação que não exista, o resultado deverá ser 0."
      ],
      "metadata": {
        "id": "T9vvy7T3T7mz"
      }
    },
    {
      "cell_type": "code",
      "execution_count": null,
      "metadata": {
        "colab": {
          "base_uri": "https://localhost:8080/"
        },
        "id": "LTUt9gE2StZG",
        "outputId": "9c8e4af0-40f8-4513-a471-798208d8b4c4"
      },
      "outputs": [
        {
          "output_type": "stream",
          "name": "stdout",
          "text": [
            "O Valor retornado pela calculadora é: 2.0\n"
          ]
        }
      ],
      "source": [
        "print(\"O Valor retornado pela calculadora é:\",calculadora(8,4,4)) "
      ]
    },
    {
      "cell_type": "code",
      "source": [
        "def calculadora(v1,v2,Op):\n",
        "  if(Op==1):\n",
        "   r = v1 + v2\n",
        "  elif(Op==2):\n",
        "   r = v1 - v2 \n",
        "  elif(Op==3):\n",
        "   r = v1 * v2 \n",
        "  elif(Op==4):\n",
        "   r = v1 / v2 \n",
        "  else:\n",
        "   r = 0\n",
        "  return r"
      ],
      "metadata": {
        "id": "sCJIMvlaTzdM"
      },
      "execution_count": null,
      "outputs": []
    }
  ]
}