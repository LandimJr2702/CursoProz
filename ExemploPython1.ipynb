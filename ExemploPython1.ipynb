{
  "nbformat": 4,
  "nbformat_minor": 0,
  "metadata": {
    "colab": {
      "provenance": [],
      "authorship_tag": "ABX9TyOj0vA6WJ5SmHg4Cz7DLrMO",
      "include_colab_link": true
    },
    "kernelspec": {
      "name": "python3",
      "display_name": "Python 3"
    },
    "language_info": {
      "name": "python"
    }
  },
  "cells": [
    {
      "cell_type": "markdown",
      "metadata": {
        "id": "view-in-github",
        "colab_type": "text"
      },
      "source": [
        "<a href=\"https://colab.research.google.com/github/LandimJr2702/CursoProz/blob/main/ExemploPython1.ipynb\" target=\"_parent\"><img src=\"https://colab.research.google.com/assets/colab-badge.svg\" alt=\"Open In Colab\"/></a>"
      ]
    },
    {
      "cell_type": "markdown",
      "source": [
        "Primeiro Exemplo Python"
      ],
      "metadata": {
        "id": "DjDRz36VkxMZ"
      }
    },
    {
      "cell_type": "code",
      "execution_count": 4,
      "metadata": {
        "colab": {
          "base_uri": "https://localhost:8080/"
        },
        "id": "HX5dOVwSkb0l",
        "outputId": "268e3fe0-49d1-4c81-99a1-60a7d08a3794"
      },
      "outputs": [
        {
          "output_type": "stream",
          "name": "stdout",
          "text": [
            "25 hello world\n"
          ]
        }
      ],
      "source": [
        "soma = 15+10\n",
        "mostra = \"hello world\"\n",
        "print(soma,mostra)"
      ]
    }
  ]
}