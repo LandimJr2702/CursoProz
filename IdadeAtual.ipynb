{
  "nbformat": 4,
  "nbformat_minor": 0,
  "metadata": {
    "colab": {
      "provenance": [],
      "collapsed_sections": [],
      "authorship_tag": "ABX9TyMljm87zmS6++n328k8SS9N",
      "include_colab_link": true
    },
    "kernelspec": {
      "name": "python3",
      "display_name": "Python 3"
    },
    "language_info": {
      "name": "python"
    }
  },
  "cells": [
    {
      "cell_type": "markdown",
      "metadata": {
        "id": "view-in-github",
        "colab_type": "text"
      },
      "source": [
        "<a href=\"https://colab.research.google.com/github/LandimJr2702/CursoProz/blob/main/IdadeAtual.ipynb\" target=\"_parent\"><img src=\"https://colab.research.google.com/assets/colab-badge.svg\" alt=\"Open In Colab\"/></a>"
      ]
    },
    {
      "cell_type": "markdown",
      "source": [
        "Desenvolva um programa que recebe do usuário nome completo e ano de nascimento que seja entre 1922 e 2021.\n",
        "A partir dessas informações, o sistema mostrará o nome do usuário e a idade que completou, ou completará, no ano atual (2022).\n",
        "\n",
        "Caso o usuário não digite um número ou apareça um inválido no campo do ano, o sistema informará o erro e continuará perguntando até que um valor correto seja preenchido.\n"
      ],
      "metadata": {
        "id": "_4Ub6vtZBeiK"
      }
    },
    {
      "cell_type": "code",
      "execution_count": 16,
      "metadata": {
        "colab": {
          "base_uri": "https://localhost:8080/"
        },
        "id": "-yDO2CmkBZ8T",
        "outputId": "2836bcc4-aa50-411e-d29c-5bff333de7b8"
      },
      "outputs": [
        {
          "output_type": "stream",
          "name": "stdout",
          "text": [
            "Digite seu nome completo: sadasdsa\n",
            "Digite o ano de seu nascimento: 1920\n",
            "Digite seu nome completo: asdasdasd\n",
            "Digite o ano de seu nascimento: 1921\n",
            "Digite seu nome completo: asdasdasd\n",
            "Digite o ano de seu nascimento: 1922\n",
            "asdasdasd , Sua Idade atual é: 100  anos \n"
          ]
        }
      ],
      "source": [
        "while True:\n",
        "  try:\n",
        "    nome = input(\"Digite seu nome completo: \")\n",
        "    ano = int(input(\"Digite o ano de seu nascimento: \"))\n",
        "    if(ano>=1922)and(ano<=2022):\n",
        "      print(nome, \", Sua Idade atual é:\", 2022 - ano,\" anos \" )\n",
        "      break\n",
        "  except:\n",
        "    print(\"Dados inválidos\")\n",
        "\n"
      ]
    }
  ]
}