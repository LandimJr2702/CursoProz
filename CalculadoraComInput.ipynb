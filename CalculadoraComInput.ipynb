{
  "nbformat": 4,
  "nbformat_minor": 0,
  "metadata": {
    "colab": {
      "provenance": [],
      "collapsed_sections": [],
      "authorship_tag": "ABX9TyPzwP1EtcttdumxUaPH2ivP",
      "include_colab_link": true
    },
    "kernelspec": {
      "name": "python3",
      "display_name": "Python 3"
    },
    "language_info": {
      "name": "python"
    }
  },
  "cells": [
    {
      "cell_type": "markdown",
      "metadata": {
        "id": "view-in-github",
        "colab_type": "text"
      },
      "source": [
        "<a href=\"https://colab.research.google.com/github/LandimJr2702/CursoProz/blob/main/CalculadoraComInput.ipynb\" target=\"_parent\"><img src=\"https://colab.research.google.com/assets/colab-badge.svg\" alt=\"Open In Colab\"/></a>"
      ]
    },
    {
      "cell_type": "markdown",
      "source": [
        "Faça uma função calculadora que os números e as operações serão feitas pelo usuário. O código deve ficar rodando infinitamente até que o usuário escolha a opção de sair. No início, o programa mostrará a seguinte lista de operações:\n",
        "\n",
        "1: Soma\n",
        "2: Subtração\n",
        "3: Multiplicação\n",
        "4: Divisão\n",
        "0: Sair\n",
        "\n",
        "Digite o número para a operação correspondente e caso o usuário introduza qualquer outro, o sistema deve mostrar a mensagem “Essa opção não existe” e voltar ao menu de opções.\n",
        "\n",
        "Após a seleção, o sistema deve pedir para o usuário inserir o primeiro e segundo valor, um de cada. Depois precisa executar a operação e mostrar o resultado na tela. Quando o usuário escolher a opção “Sair”, o sistema irá parar.\n",
        "\n",
        "É necessário que o sistema mostre as opções sempre que finalizar uma operação e mostrar o resultado. "
      ],
      "metadata": {
        "id": "MLCzsBVJiM_W"
      }
    },
    {
      "cell_type": "code",
      "source": [
        "while True:\n",
        "  Op = input(\"Digite a opção:\")\n",
        "  try:\n",
        "     int(Op)\n",
        "  except ValueError as err:\n",
        "    print(\"Digite um Número inteiro!\")\n",
        "    \n",
        "  Op = int(Op)    \n",
        "  if(Op==0):\n",
        "    print(\"Calculadora Finalizada\")\n",
        "    break\n",
        "\n",
        "  v1 = input(\"Digite o primeiro valor:\")\n",
        "  try:\n",
        "     int(v1)\n",
        "  except ValueError as err:\n",
        "    print(\"Digite um Número inteiro!\")  \n",
        "  \n",
        "  v2 = input(\"Digite o segundo valor:\")\n",
        "  try:\n",
        "     int(v2)\n",
        "  except ValueError as err:\n",
        "   print(\"Digite um Número inteiro!\")\n",
        " \n",
        " \n",
        "  v1 = int(v1)  \n",
        "  v2 = int(v2)\n",
        "  \n",
        "\n",
        "  if(Op != 0) and (Op != 1) and (Op != 2) and (Op != 3) and (Op != 4) :\n",
        "    print(\"Voce digitou uma oção inválida, Digite: 1 para Soma, 2 para Subtração, 3 para Multiplicação,  4 para Divisão ou zero para Sair \")\n",
        "  \n",
        "  if(Op>0):\n",
        "      print(\"O resultado obtido pela calculadora foi:\",calculadora(v1,v2,Op))"
      ],
      "metadata": {
        "id": "p3zYQAX2iafW",
        "colab": {
          "base_uri": "https://localhost:8080/"
        },
        "outputId": "b10853e8-9604-43f1-d65e-0012ca363af9"
      },
      "execution_count": 59,
      "outputs": [
        {
          "output_type": "stream",
          "name": "stdout",
          "text": [
            "Digite a opção:0\n",
            "Calculadora Finalizada\n"
          ]
        }
      ]
    },
    {
      "cell_type": "code",
      "execution_count": null,
      "metadata": {
        "id": "unLGvKyUiGl1"
      },
      "outputs": [],
      "source": [
        "def calculadora(v1,v2,Op):\n",
        "  \n",
        "  if(Op==1):\n",
        "   r = v1 + v2   \n",
        "  elif(Op==2):\n",
        "   r = v1 - v2    \n",
        "  elif(Op==3):\n",
        "   r = v1 * v2 \n",
        "  elif(Op==4):\n",
        "   r = v1 / v2    \n",
        "  else:\n",
        "   r = 0\n",
        "  return r"
      ]
    }
  ]
}